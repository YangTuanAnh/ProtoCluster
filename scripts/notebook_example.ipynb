{
  "nbformat": 4,
  "nbformat_minor": 0,
  "metadata": {
    "colab": {
      "provenance": [],
      "gpuType": "T4"
    },
    "kernelspec": {
      "name": "python3",
      "display_name": "Python 3"
    },
    "language_info": {
      "name": "python"
    },
    "accelerator": "GPU"
  },
  "cells": [
    {
      "cell_type": "code",
      "source": [
        "%cd /content"
      ],
      "metadata": {
        "colab": {
          "base_uri": "https://localhost:8080/"
        },
        "id": "w4rAAYjB_kSv",
        "outputId": "7a3c61b5-2b09-4d3b-faa1-dcd88bb06445"
      },
      "execution_count": 7,
      "outputs": [
        {
          "output_type": "stream",
          "name": "stdout",
          "text": [
            "/content\n"
          ]
        }
      ]
    },
    {
      "cell_type": "code",
      "source": [
        "!rm -rf ProtoCluster"
      ],
      "metadata": {
        "id": "ocmRP-F4-kw0"
      },
      "execution_count": 8,
      "outputs": []
    },
    {
      "cell_type": "code",
      "source": [
        "!git clone https://github.com/YangTuanAnh/ProtoCluster"
      ],
      "metadata": {
        "colab": {
          "base_uri": "https://localhost:8080/"
        },
        "id": "Rzkoqunp7-bB",
        "outputId": "c5df02c7-ca30-4a90-dcad-57f5003096ba"
      },
      "execution_count": 9,
      "outputs": [
        {
          "output_type": "stream",
          "name": "stdout",
          "text": [
            "Cloning into 'ProtoCluster'...\n",
            "remote: Enumerating objects: 172, done.\u001b[K\n",
            "remote: Counting objects: 100% (8/8), done.\u001b[K\n",
            "remote: Compressing objects: 100% (6/6), done.\u001b[K\n",
            "remote: Total 172 (delta 3), reused 6 (delta 2), pack-reused 164 (from 1)\u001b[K\n",
            "Receiving objects: 100% (172/172), 41.29 MiB | 32.47 MiB/s, done.\n",
            "Resolving deltas: 100% (29/29), done.\n"
          ]
        }
      ]
    },
    {
      "cell_type": "code",
      "source": [
        "%cd ProtoCluster"
      ],
      "metadata": {
        "colab": {
          "base_uri": "https://localhost:8080/"
        },
        "id": "WNQoC2Ug9FhJ",
        "outputId": "f26b8e71-0e48-4ade-b662-f94bdacdc1b3"
      },
      "execution_count": 10,
      "outputs": [
        {
          "output_type": "stream",
          "name": "stdout",
          "text": [
            "/content/ProtoCluster\n"
          ]
        }
      ]
    },
    {
      "cell_type": "code",
      "source": [
        "!pip install -r requirements.txt"
      ],
      "metadata": {
        "colab": {
          "base_uri": "https://localhost:8080/"
        },
        "id": "yhbi6ONU9XtM",
        "outputId": "6a2c68ab-05d3-4379-aeb5-1937c3b71998"
      },
      "execution_count": 4,
      "outputs": [
        {
          "output_type": "stream",
          "name": "stdout",
          "text": [
            "Requirement already satisfied: aiohappyeyeballs==2.6.1 in /usr/local/lib/python3.11/dist-packages (from -r requirements.txt (line 1)) (2.6.1)\n",
            "Requirement already satisfied: aiohttp==3.11.17 in /usr/local/lib/python3.11/dist-packages (from -r requirements.txt (line 2)) (3.11.17)\n",
            "Requirement already satisfied: aiosignal==1.3.2 in /usr/local/lib/python3.11/dist-packages (from -r requirements.txt (line 3)) (1.3.2)\n",
            "Requirement already satisfied: attrs==25.3.0 in /usr/local/lib/python3.11/dist-packages (from -r requirements.txt (line 4)) (25.3.0)\n",
            "Requirement already satisfied: certifi==2025.1.31 in /usr/local/lib/python3.11/dist-packages (from -r requirements.txt (line 5)) (2025.1.31)\n",
            "Requirement already satisfied: charset-normalizer==3.4.1 in /usr/local/lib/python3.11/dist-packages (from -r requirements.txt (line 6)) (3.4.1)\n",
            "Requirement already satisfied: colorama==0.4.6 in /usr/local/lib/python3.11/dist-packages (from -r requirements.txt (line 7)) (0.4.6)\n",
            "Requirement already satisfied: contourpy==1.3.2 in /usr/local/lib/python3.11/dist-packages (from -r requirements.txt (line 8)) (1.3.2)\n",
            "Requirement already satisfied: cycler==0.12.1 in /usr/local/lib/python3.11/dist-packages (from -r requirements.txt (line 9)) (0.12.1)\n",
            "Requirement already satisfied: filelock==3.18.0 in /usr/local/lib/python3.11/dist-packages (from -r requirements.txt (line 10)) (3.18.0)\n",
            "Requirement already satisfied: fonttools==4.57.0 in /usr/local/lib/python3.11/dist-packages (from -r requirements.txt (line 11)) (4.57.0)\n",
            "Requirement already satisfied: frozenlist==1.6.0 in /usr/local/lib/python3.11/dist-packages (from -r requirements.txt (line 12)) (1.6.0)\n",
            "Requirement already satisfied: fsspec==2025.3.2 in /usr/local/lib/python3.11/dist-packages (from -r requirements.txt (line 13)) (2025.3.2)\n",
            "Requirement already satisfied: idna==3.10 in /usr/local/lib/python3.11/dist-packages (from -r requirements.txt (line 14)) (3.10)\n",
            "Requirement already satisfied: Jinja2==3.1.6 in /usr/local/lib/python3.11/dist-packages (from -r requirements.txt (line 15)) (3.1.6)\n",
            "Requirement already satisfied: joblib==1.4.2 in /usr/local/lib/python3.11/dist-packages (from -r requirements.txt (line 16)) (1.4.2)\n",
            "Requirement already satisfied: kiwisolver==1.4.8 in /usr/local/lib/python3.11/dist-packages (from -r requirements.txt (line 17)) (1.4.8)\n",
            "Requirement already satisfied: MarkupSafe==3.0.2 in /usr/local/lib/python3.11/dist-packages (from -r requirements.txt (line 18)) (3.0.2)\n",
            "Requirement already satisfied: matplotlib==3.10.1 in /usr/local/lib/python3.11/dist-packages (from -r requirements.txt (line 19)) (3.10.1)\n",
            "Requirement already satisfied: mpmath==1.3.0 in /usr/local/lib/python3.11/dist-packages (from -r requirements.txt (line 20)) (1.3.0)\n",
            "Requirement already satisfied: multidict==6.4.3 in /usr/local/lib/python3.11/dist-packages (from -r requirements.txt (line 21)) (6.4.3)\n",
            "Requirement already satisfied: networkx==3.4.2 in /usr/local/lib/python3.11/dist-packages (from -r requirements.txt (line 22)) (3.4.2)\n",
            "Requirement already satisfied: numpy==2.2.5 in /usr/local/lib/python3.11/dist-packages (from -r requirements.txt (line 23)) (2.2.5)\n",
            "Requirement already satisfied: packaging==25.0 in /usr/local/lib/python3.11/dist-packages (from -r requirements.txt (line 24)) (25.0)\n",
            "Requirement already satisfied: pandas==2.2.3 in /usr/local/lib/python3.11/dist-packages (from -r requirements.txt (line 25)) (2.2.3)\n",
            "Requirement already satisfied: pillow==11.2.1 in /usr/local/lib/python3.11/dist-packages (from -r requirements.txt (line 26)) (11.2.1)\n",
            "Requirement already satisfied: platformdirs==4.3.7 in /usr/local/lib/python3.11/dist-packages (from -r requirements.txt (line 27)) (4.3.7)\n",
            "Requirement already satisfied: pooch==1.8.2 in /usr/local/lib/python3.11/dist-packages (from -r requirements.txt (line 28)) (1.8.2)\n",
            "Requirement already satisfied: propcache==0.3.1 in /usr/local/lib/python3.11/dist-packages (from -r requirements.txt (line 29)) (0.3.1)\n",
            "Requirement already satisfied: psutil==7.0.0 in /usr/local/lib/python3.11/dist-packages (from -r requirements.txt (line 30)) (7.0.0)\n",
            "Requirement already satisfied: pyparsing==3.2.3 in /usr/local/lib/python3.11/dist-packages (from -r requirements.txt (line 31)) (3.2.3)\n",
            "Requirement already satisfied: python-dateutil==2.9.0.post0 in /usr/local/lib/python3.11/dist-packages (from -r requirements.txt (line 32)) (2.9.0.post0)\n",
            "Requirement already satisfied: pytz==2025.2 in /usr/local/lib/python3.11/dist-packages (from -r requirements.txt (line 33)) (2025.2)\n",
            "Requirement already satisfied: pyvista==0.45.0 in /usr/local/lib/python3.11/dist-packages (from -r requirements.txt (line 34)) (0.45.0)\n",
            "Requirement already satisfied: requests==2.32.3 in /usr/local/lib/python3.11/dist-packages (from -r requirements.txt (line 35)) (2.32.3)\n",
            "Requirement already satisfied: scikit-learn==1.6.1 in /usr/local/lib/python3.11/dist-packages (from -r requirements.txt (line 36)) (1.6.1)\n",
            "Requirement already satisfied: scipy==1.15.2 in /usr/local/lib/python3.11/dist-packages (from -r requirements.txt (line 37)) (1.15.2)\n",
            "Requirement already satisfied: scooby==0.10.0 in /usr/local/lib/python3.11/dist-packages (from -r requirements.txt (line 38)) (0.10.0)\n",
            "Requirement already satisfied: setuptools==78.1.1 in /usr/local/lib/python3.11/dist-packages (from -r requirements.txt (line 39)) (78.1.1)\n",
            "Requirement already satisfied: six==1.17.0 in /usr/local/lib/python3.11/dist-packages (from -r requirements.txt (line 40)) (1.17.0)\n",
            "Requirement already satisfied: sympy==1.13.1 in /usr/local/lib/python3.11/dist-packages (from -r requirements.txt (line 41)) (1.13.1)\n",
            "Requirement already satisfied: threadpoolctl==3.6.0 in /usr/local/lib/python3.11/dist-packages (from -r requirements.txt (line 42)) (3.6.0)\n",
            "Requirement already satisfied: torch==2.6.0 in /usr/local/lib/python3.11/dist-packages (from -r requirements.txt (line 43)) (2.6.0+cu124)\n",
            "Requirement already satisfied: torch-geometric==2.6.1 in /usr/local/lib/python3.11/dist-packages (from -r requirements.txt (line 44)) (2.6.1)\n",
            "Requirement already satisfied: tqdm==4.67.1 in /usr/local/lib/python3.11/dist-packages (from -r requirements.txt (line 45)) (4.67.1)\n",
            "Requirement already satisfied: typing_extensions==4.13.2 in /usr/local/lib/python3.11/dist-packages (from -r requirements.txt (line 46)) (4.13.2)\n",
            "Requirement already satisfied: tzdata==2025.2 in /usr/local/lib/python3.11/dist-packages (from -r requirements.txt (line 47)) (2025.2)\n",
            "Requirement already satisfied: urllib3==2.4.0 in /usr/local/lib/python3.11/dist-packages (from -r requirements.txt (line 48)) (2.4.0)\n",
            "Requirement already satisfied: vtk==9.4.2 in /usr/local/lib/python3.11/dist-packages (from -r requirements.txt (line 49)) (9.4.2)\n",
            "Requirement already satisfied: yarl==1.20.0 in /usr/local/lib/python3.11/dist-packages (from -r requirements.txt (line 50)) (1.20.0)\n",
            "Requirement already satisfied: nvidia-cuda-nvrtc-cu12==12.4.127 in /usr/local/lib/python3.11/dist-packages (from torch==2.6.0->-r requirements.txt (line 43)) (12.4.127)\n",
            "Requirement already satisfied: nvidia-cuda-runtime-cu12==12.4.127 in /usr/local/lib/python3.11/dist-packages (from torch==2.6.0->-r requirements.txt (line 43)) (12.4.127)\n",
            "Requirement already satisfied: nvidia-cuda-cupti-cu12==12.4.127 in /usr/local/lib/python3.11/dist-packages (from torch==2.6.0->-r requirements.txt (line 43)) (12.4.127)\n",
            "Requirement already satisfied: nvidia-cudnn-cu12==9.1.0.70 in /usr/local/lib/python3.11/dist-packages (from torch==2.6.0->-r requirements.txt (line 43)) (9.1.0.70)\n",
            "Requirement already satisfied: nvidia-cublas-cu12==12.4.5.8 in /usr/local/lib/python3.11/dist-packages (from torch==2.6.0->-r requirements.txt (line 43)) (12.4.5.8)\n",
            "Requirement already satisfied: nvidia-cufft-cu12==11.2.1.3 in /usr/local/lib/python3.11/dist-packages (from torch==2.6.0->-r requirements.txt (line 43)) (11.2.1.3)\n",
            "Requirement already satisfied: nvidia-curand-cu12==10.3.5.147 in /usr/local/lib/python3.11/dist-packages (from torch==2.6.0->-r requirements.txt (line 43)) (10.3.5.147)\n",
            "Requirement already satisfied: nvidia-cusolver-cu12==11.6.1.9 in /usr/local/lib/python3.11/dist-packages (from torch==2.6.0->-r requirements.txt (line 43)) (11.6.1.9)\n",
            "Requirement already satisfied: nvidia-cusparse-cu12==12.3.1.170 in /usr/local/lib/python3.11/dist-packages (from torch==2.6.0->-r requirements.txt (line 43)) (12.3.1.170)\n",
            "Requirement already satisfied: nvidia-cusparselt-cu12==0.6.2 in /usr/local/lib/python3.11/dist-packages (from torch==2.6.0->-r requirements.txt (line 43)) (0.6.2)\n",
            "Requirement already satisfied: nvidia-nccl-cu12==2.21.5 in /usr/local/lib/python3.11/dist-packages (from torch==2.6.0->-r requirements.txt (line 43)) (2.21.5)\n",
            "Requirement already satisfied: nvidia-nvtx-cu12==12.4.127 in /usr/local/lib/python3.11/dist-packages (from torch==2.6.0->-r requirements.txt (line 43)) (12.4.127)\n",
            "Requirement already satisfied: nvidia-nvjitlink-cu12==12.4.127 in /usr/local/lib/python3.11/dist-packages (from torch==2.6.0->-r requirements.txt (line 43)) (12.4.127)\n",
            "Requirement already satisfied: triton==3.2.0 in /usr/local/lib/python3.11/dist-packages (from torch==2.6.0->-r requirements.txt (line 43)) (3.2.0)\n"
          ]
        }
      ]
    },
    {
      "cell_type": "code",
      "source": [
        "!sh scripts/pipeline.sh"
      ],
      "metadata": {
        "colab": {
          "base_uri": "https://localhost:8080/"
        },
        "id": "2EM9lLyC8IOp",
        "outputId": "9e4360d1-f7f4-4908-fbfb-060276e3287b"
      },
      "execution_count": 11,
      "outputs": [
        {
          "output_type": "stream",
          "name": "stdout",
          "text": [
            "-e \u001b[1m\u001b[1;33m🔧 Configuration:\u001b[0m\n",
            "-e 📁 Data path   : \u001b[0;32m./sample_data\u001b[0m\n",
            "-e 📁 Output path : \u001b[0;32m./output\u001b[0m\n",
            "-e 📄 Train CSV   : \u001b[0;32mtrain_set.csv\u001b[0m\n",
            "-e 📄 Test CSV    : \u001b[0;32mtest_set.csv\u001b[0m\n",
            "\n",
            "-e \u001b[1;35m------------------------------------------------------------\u001b[0m\n",
            "-e \u001b[1m\u001b[0;36m📦 Extracting train_set_vtk.tar.gz\u001b[0m\n",
            "-e \u001b[1;35m------------------------------------------------------------\u001b[0m\n",
            "-e \u001b[1;35m------------------------------------------------------------\u001b[0m\n",
            "-e \u001b[1m\u001b[0;36m⚙️ Preprocessing (Training)\u001b[0m\n",
            "-e \u001b[1;35m------------------------------------------------------------\u001b[0m\n",
            "100% 2/2 [00:00<00:00, 1565.04it/s]\n",
            "-e \u001b[1;35m------------------------------------------------------------\u001b[0m\n",
            "-e \u001b[1m\u001b[0;36m🧪 Stage 1 - Confusion Analysis\u001b[0m\n",
            "-e \u001b[1;35m------------------------------------------------------------\u001b[0m\n",
            "8it [00:00, 43.05it/s]\n",
            "6it [00:00, 562.63it/s]\n",
            "100% 8/8 [00:00<00:00, 24600.02it/s]\n",
            "Global Min: 7.484419822692871, Global Max: 47.182151794433594\n",
            "100% 8/8 [00:00<00:00, 5732.86it/s]\n",
            "100% 6/6 [00:00<00:00, 6426.41it/s]\n",
            "Epoch   1: Train Loss = 7.3581, Val Loss = 4.1789, Train Acc = 0.0000, Val Acc = 0.1667\n",
            "Epoch   2: Train Loss = 4.1172, Val Loss = 3.6223, Train Acc = 0.5000, Val Acc = 0.3333\n",
            "Epoch   3: Train Loss = 3.4988, Val Loss = 3.0800, Train Acc = 0.5000, Val Acc = 0.3333\n",
            "Epoch   4: Train Loss = 2.9758, Val Loss = 2.8435, Train Acc = 0.5000, Val Acc = 0.3333\n",
            "Epoch   5: Train Loss = 2.6764, Val Loss = 2.4171, Train Acc = 0.5000, Val Acc = 0.1667\n",
            "Epoch   6: Train Loss = 2.1091, Val Loss = 2.2266, Train Acc = 0.5000, Val Acc = 0.1667\n",
            "Epoch   7: Train Loss = 2.1780, Val Loss = 1.8711, Train Acc = 0.3750, Val Acc = 0.5000\n",
            "Epoch   8: Train Loss = 1.7082, Val Loss = 1.8471, Train Acc = 0.6250, Val Acc = 0.3333\n",
            "Epoch   9: Train Loss = 1.5732, Val Loss = 1.7536, Train Acc = 0.6250, Val Acc = 0.3333\n",
            "Epoch  10: Train Loss = 1.2521, Val Loss = 1.5749, Train Acc = 0.5000, Val Acc = 0.3333\n",
            "Epoch  11: Train Loss = 1.1226, Val Loss = 1.5833, Train Acc = 0.5000, Val Acc = 0.3333\n",
            "Epoch  12: Train Loss = 1.0695, Val Loss = 1.7013, Train Acc = 0.6250, Val Acc = 0.1667\n",
            "Epoch  13: Train Loss = 1.2457, Val Loss = 1.4557, Train Acc = 0.5000, Val Acc = 0.5000\n",
            "Epoch  14: Train Loss = 1.0638, Val Loss = 1.3860, Train Acc = 0.6250, Val Acc = 0.3333\n",
            "Epoch  15: Train Loss = 1.1910, Val Loss = 1.2528, Train Acc = 0.5000, Val Acc = 0.5000\n",
            "Epoch  16: Train Loss = 0.9280, Val Loss = 1.6501, Train Acc = 0.6250, Val Acc = 0.1667\n",
            "Epoch  17: Train Loss = 1.0740, Val Loss = 1.3692, Train Acc = 0.5000, Val Acc = 0.1667\n",
            "Epoch  18: Train Loss = 0.8311, Val Loss = 1.2149, Train Acc = 0.6250, Val Acc = 0.5000\n",
            "Epoch  19: Train Loss = 1.0748, Val Loss = 1.2703, Train Acc = 0.6250, Val Acc = 0.3333\n",
            "Epoch  20: Train Loss = 0.6836, Val Loss = 1.2526, Train Acc = 0.7500, Val Acc = 0.5000\n",
            "Class 8 is often confused with class 56 (50.00% of the time)\n",
            "Class 14 is often confused with class 8 (100.00% of the time)\n",
            "Class 56 is often confused with class 61 (100.00% of the time)\n",
            "Class 61 is often confused with class 8 (100.00% of the time)\n",
            "Class 90 is often confused with class 14 (100.00% of the time)\n",
            "-e \u001b[1;35m------------------------------------------------------------\u001b[0m\n",
            "-e \u001b[1m\u001b[0;36m🧠 Stage 2 - Pretraining\u001b[0m\n",
            "-e \u001b[1;35m------------------------------------------------------------\u001b[0m\n",
            "10it [00:00, 41.74it/s]\n",
            "4it [00:00, 598.87it/s]\n",
            "100% 10/10 [00:00<00:00, 23871.96it/s]\n",
            "Global Min: 8.370980262756348, Global Max: 46.544960021972656\n",
            "100% 10/10 [00:00<00:00, 4136.80it/s]\n",
            "100% 4/4 [00:00<00:00, 6357.41it/s]\n",
            "Epoch   1: Train Loss = 4.2839, Val Loss = 3.3646, Train Acc = 0.0000, Val Acc = 0.2500\n",
            "Epoch   2: Train Loss = 2.5473, Val Loss = 4.9965, Train Acc = 0.5000, Val Acc = 0.2500\n",
            "Epoch   3: Train Loss = 2.3882, Val Loss = 4.1275, Train Acc = 0.5000, Val Acc = 0.2500\n",
            "Epoch   4: Train Loss = 2.3290, Val Loss = 3.2298, Train Acc = 0.3000, Val Acc = 0.2500\n",
            "Epoch   5: Train Loss = 1.9229, Val Loss = 2.6642, Train Acc = 0.4000, Val Acc = 0.2500\n",
            "Epoch   6: Train Loss = 1.5000, Val Loss = 2.0695, Train Acc = 0.5000, Val Acc = 0.2500\n",
            "Epoch   7: Train Loss = 1.3343, Val Loss = 1.6350, Train Acc = 0.5000, Val Acc = 0.2500\n",
            "Epoch   8: Train Loss = 1.3588, Val Loss = 1.4241, Train Acc = 0.5000, Val Acc = 0.2500\n",
            "Epoch   9: Train Loss = 1.4016, Val Loss = 1.3409, Train Acc = 0.4000, Val Acc = 0.2500\n",
            "Epoch  10: Train Loss = 1.2764, Val Loss = 1.4110, Train Acc = 0.5000, Val Acc = 0.2500\n",
            "Epoch  11: Train Loss = 1.1925, Val Loss = 1.6408, Train Acc = 0.6000, Val Acc = 0.2500\n",
            "Epoch  12: Train Loss = 1.1181, Val Loss = 1.9276, Train Acc = 0.6000, Val Acc = 0.2500\n",
            "Epoch  13: Train Loss = 1.1195, Val Loss = 2.0633, Train Acc = 0.6000, Val Acc = 0.2500\n",
            "Epoch  14: Train Loss = 1.2972, Val Loss = 1.9320, Train Acc = 0.5000, Val Acc = 0.2500\n",
            "Epoch  15: Train Loss = 1.1112, Val Loss = 1.6670, Train Acc = 0.6000, Val Acc = 0.5000\n",
            "Epoch  16: Train Loss = 1.1088, Val Loss = 1.3947, Train Acc = 0.6000, Val Acc = 0.5000\n",
            "Epoch  17: Train Loss = 1.0924, Val Loss = 1.1760, Train Acc = 0.6000, Val Acc = 0.5000\n",
            "Epoch  18: Train Loss = 0.9652, Val Loss = 1.0947, Train Acc = 0.6000, Val Acc = 0.5000\n",
            "Epoch  19: Train Loss = 0.9966, Val Loss = 1.0195, Train Acc = 0.6000, Val Acc = 0.5000\n",
            "Epoch  20: Train Loss = 0.9246, Val Loss = 0.9950, Train Acc = 0.6000, Val Acc = 0.5000\n",
            "-e \u001b[1;35m------------------------------------------------------------\u001b[0m\n",
            "-e \u001b[1m\u001b[0;36m🎯 Stage 3 - Finetuning\u001b[0m\n",
            "-e \u001b[1;35m------------------------------------------------------------\u001b[0m\n",
            "10it [00:00, 71.97it/s]\n",
            "4it [00:00, 851.38it/s]\n",
            "Loading all weights including classifier.\n",
            "100% 10/10 [00:00<00:00, 36503.95it/s]\n",
            "Global Min: 8.370980262756348, Global Max: 46.544960021972656\n",
            "100% 10/10 [00:00<00:00, 8540.63it/s]\n",
            "100% 4/4 [00:00<00:00, 7028.58it/s]\n",
            "Epoch   1: Train Loss = 0.9057, Val Loss = 2.5557, Train Acc = 0.6000, Val Acc = 0.2500\n",
            "Epoch   2: Train Loss = 1.9474, Val Loss = 1.5613, Train Acc = 0.3000, Val Acc = 0.2500\n",
            "Epoch   3: Train Loss = 1.1501, Val Loss = 1.3380, Train Acc = 0.6000, Val Acc = 0.2500\n",
            "Epoch   4: Train Loss = 1.0001, Val Loss = 0.9435, Train Acc = 0.6000, Val Acc = 0.2500\n",
            "Epoch   5: Train Loss = 0.9503, Val Loss = 1.1855, Train Acc = 0.5000, Val Acc = 0.5000\n",
            "Epoch   6: Train Loss = 1.1873, Val Loss = 1.0633, Train Acc = 0.3000, Val Acc = 0.2500\n",
            "Epoch   7: Train Loss = 0.8465, Val Loss = 1.2135, Train Acc = 0.7000, Val Acc = 0.2500\n",
            "Epoch   8: Train Loss = 0.8062, Val Loss = 1.3770, Train Acc = 0.5000, Val Acc = 0.2500\n",
            "Epoch   9: Train Loss = 0.8984, Val Loss = 1.4858, Train Acc = 0.6000, Val Acc = 0.2500\n",
            "Epoch  10: Train Loss = 0.8929, Val Loss = 1.4440, Train Acc = 0.6000, Val Acc = 0.2500\n",
            "Epoch  11: Train Loss = 0.8359, Val Loss = 1.3599, Train Acc = 0.6000, Val Acc = 0.2500\n",
            "Epoch  12: Train Loss = 0.7901, Val Loss = 1.2854, Train Acc = 0.8000, Val Acc = 0.5000\n",
            "Epoch  13: Train Loss = 0.9522, Val Loss = 1.1578, Train Acc = 0.5000, Val Acc = 0.2500\n",
            "Epoch  14: Train Loss = 0.6541, Val Loss = 1.1607, Train Acc = 0.9000, Val Acc = 0.2500\n",
            "Epoch  15: Train Loss = 0.7612, Val Loss = 1.1952, Train Acc = 0.8000, Val Acc = 0.2500\n",
            "Epoch  16: Train Loss = 0.7066, Val Loss = 1.1843, Train Acc = 0.7000, Val Acc = 0.2500\n",
            "Epoch  17: Train Loss = 0.7809, Val Loss = 1.0979, Train Acc = 0.7000, Val Acc = 0.2500\n",
            "Epoch  18: Train Loss = 0.7705, Val Loss = 1.1242, Train Acc = 0.7000, Val Acc = 0.2500\n",
            "Epoch  19: Train Loss = 0.5621, Val Loss = 1.2893, Train Acc = 0.8000, Val Acc = 0.2500\n",
            "Epoch  20: Train Loss = 0.7546, Val Loss = 1.3998, Train Acc = 0.7000, Val Acc = 0.2500\n",
            "-e \u001b[1;35m------------------------------------------------------------\u001b[0m\n",
            "-e \u001b[1m\u001b[0;36m📦 Extracting test_set_vtk.tar.gz\u001b[0m\n",
            "-e \u001b[1;35m------------------------------------------------------------\u001b[0m\n",
            "-e \u001b[1;35m------------------------------------------------------------\u001b[0m\n",
            "-e \u001b[1m\u001b[0;36m📤 Submission Inference\u001b[0m\n",
            "-e \u001b[1;35m------------------------------------------------------------\u001b[0m\n",
            "100% 1/1 [00:00<00:00, 1051.20it/s]\n",
            "10it [00:00, 72.69it/s]\n",
            "100% 10/10 [00:00<00:00, 35818.14it/s]\n",
            "Global Min: 9.883322715759277, Global Max: 39.30537796020508\n",
            "100% 10/10 [00:00<00:00, 8322.03it/s]\n",
            "-e \u001b[0;32m⏱️ Submission inference completed in 10 seconds.\u001b[0m\n",
            "-e \u001b[0;32m\u001b[1m✅ Done!\u001b[0m 🚀\n"
          ]
        }
      ]
    }
  ]
}